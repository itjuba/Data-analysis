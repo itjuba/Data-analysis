{
 "cells": [
  {
   "cell_type": "code",
   "execution_count": 119,
   "id": "601d7d72",
   "metadata": {},
   "outputs": [],
   "source": [
    "# Generation des objets (sommet + voisins)\n",
    "\n",
    "import random\n",
    "import pprint\n",
    "import math\n",
    "\n",
    "def graph_gen(n):\n",
    "    max_lat = 90\n",
    "    min_lat = -90\n",
    "    max_lon = 180\n",
    "    min_lon = -180\n",
    "    \n",
    "    data = []\n",
    "    \n",
    "    for i in range(n): # Creer une liste de dictionnaire de données\n",
    "        item = {}\n",
    "        item[\"index\"] = i\n",
    "        item[\"lat\"] = random.randint(min_lat, max_lat)\n",
    "        item[\"lon\"] = random.randint(min_lon, max_lon)\n",
    "        item[\"voisin\"] = []\n",
    "        data.append(item)\n",
    "        \n",
    "    for item in data: # Generation des voisins\n",
    "        while(len(item[\"voisin\"]) < math.ceil(n/2) ):\n",
    "            randS = random.randint(0, len(data)-1)\n",
    "            while(randS == item[\"index\"] or randS in item[\"voisin\"]):\n",
    "                randS = random.randint(0, len(data)-1)\n",
    "            item[\"voisin\"].append(randS) #Voisin\n",
    "            data[item[\"voisin\"][-1]][\"voisin\"].append(item[\"index\"]) #Voisin Inverse            \n",
    "    print(data)\n",
    "    return data\n",
    "    \n",
    "def matrice_gen(data): #Generation de la matrice apartir des données\n",
    "    matrice = []\n",
    "    \n",
    "    for item in data:\n",
    "        line = []\n",
    "        for i in range(len(data)):\n",
    "            if i in item[\"voisin\"]:\n",
    "                line.append(1)\n",
    "            else:\n",
    "                line.append(0)\n",
    "        matrice.append(line)\n",
    "    pprint.pprint(matrice)\n",
    "    return matrice\n",
    "            "
   ]
  },
  {
   "cell_type": "code",
   "execution_count": 107,
   "id": "4332fc7d",
   "metadata": {},
   "outputs": [
    {
     "name": "stdout",
     "output_type": "stream",
     "text": [
      "[{'index': 0, 'lat': -51, 'lon': 129, 'voisin': [6, 8, 4, 1, 3, 2, 5, 7]}, {'index': 1, 'lat': -46, 'lon': -48, 'voisin': [0, 2, 6, 8, 7, 4, 5]}, {'index': 2, 'lat': 20, 'lon': -78, 'voisin': [1, 6, 4, 5, 0, 3]}, {'index': 3, 'lat': -70, 'lon': -118, 'voisin': [0, 8, 6, 2, 4]}, {'index': 4, 'lat': -36, 'lon': -138, 'voisin': [0, 2, 3, 1, 5]}, {'index': 5, 'lat': 31, 'lon': 82, 'voisin': [2, 4, 0, 6, 1, 7]}, {'index': 6, 'lat': 61, 'lon': -61, 'voisin': [0, 1, 2, 3, 5, 7, 8]}, {'index': 7, 'lat': -19, 'lon': -154, 'voisin': [1, 5, 0, 6, 8]}, {'index': 8, 'lat': -62, 'lon': 57, 'voisin': [0, 1, 3, 7, 6]}]\n",
      "[[0, 1, 1, 1, 1, 1, 1, 1, 1],\n",
      " [1, 0, 1, 0, 1, 1, 1, 1, 1],\n",
      " [1, 1, 0, 1, 1, 1, 1, 0, 0],\n",
      " [1, 0, 1, 0, 1, 0, 1, 0, 1],\n",
      " [1, 1, 1, 1, 0, 1, 0, 0, 0],\n",
      " [1, 1, 1, 0, 1, 0, 1, 1, 0],\n",
      " [1, 1, 1, 1, 0, 1, 0, 1, 1],\n",
      " [1, 1, 0, 0, 0, 1, 1, 0, 1],\n",
      " [1, 1, 0, 1, 0, 0, 1, 1, 0]]\n"
     ]
    }
   ],
   "source": [
    "data = graph_gen(9) \n",
    "matrice_r = matrice_gen(data)"
   ]
  },
  {
   "cell_type": "code",
   "execution_count": 111,
   "id": "2eda640d",
   "metadata": {},
   "outputs": [],
   "source": [
    "# Generate graph \n",
    "\n",
    "import networkx as nx\n",
    "import numpy as np\n",
    "import matplotlib.pyplot as plt\n",
    "\n",
    "\n",
    "G = nx.from_numpy_matrix(np.matrix(matrice_r))\n",
    "nx.draw(G,with_labels=True)\n",
    "plt.show()"
   ]
  },
  {
   "cell_type": "code",
   "execution_count": 113,
   "id": "9d163c18",
   "metadata": {},
   "outputs": [
    {
     "data": {
      "text/plain": [
       "<pymongo.results.InsertManyResult at 0x19a75a32740>"
      ]
     },
     "execution_count": 113,
     "metadata": {},
     "output_type": "execute_result"
    }
   ],
   "source": [
    "#Insertion des données\n",
    "\n",
    "from pymongo import MongoClient\n",
    "\n",
    "client = MongoClient('localhost', 27017)\n",
    "db = client['DataProject']\n",
    "vrp = db['VRP']\n",
    "vrp.insert_many(data)"
   ]
  },
  {
   "cell_type": "code",
   "execution_count": null,
   "id": "d11539ed",
   "metadata": {},
   "outputs": [],
   "source": []
  },
  {
   "cell_type": "code",
   "execution_count": 117,
   "id": "ede0f897",
   "metadata": {},
   "outputs": [
    {
     "name": "stdout",
     "output_type": "stream",
     "text": [
      "[{'_id': ObjectId('60cf573c38e4510ec1c99f74'),\n",
      "  'index': 0,\n",
      "  'lat': -51,\n",
      "  'lon': 129,\n",
      "  'voisin': [6, 8, 4, 1, 3, 2, 5, 7]},\n",
      " {'_id': ObjectId('60cf573c38e4510ec1c99f75'),\n",
      "  'index': 1,\n",
      "  'lat': -46,\n",
      "  'lon': -48,\n",
      "  'voisin': [0, 2, 6, 8, 7, 4, 5]},\n",
      " {'_id': ObjectId('60cf573c38e4510ec1c99f76'),\n",
      "  'index': 2,\n",
      "  'lat': 20,\n",
      "  'lon': -78,\n",
      "  'voisin': [1, 6, 4, 5, 0, 3]},\n",
      " {'_id': ObjectId('60cf573c38e4510ec1c99f77'),\n",
      "  'index': 3,\n",
      "  'lat': -70,\n",
      "  'lon': -118,\n",
      "  'voisin': [0, 8, 6, 2, 4]},\n",
      " {'_id': ObjectId('60cf573c38e4510ec1c99f78'),\n",
      "  'index': 4,\n",
      "  'lat': -36,\n",
      "  'lon': -138,\n",
      "  'voisin': [0, 2, 3, 1, 5]},\n",
      " {'_id': ObjectId('60cf573c38e4510ec1c99f79'),\n",
      "  'index': 5,\n",
      "  'lat': 31,\n",
      "  'lon': 82,\n",
      "  'voisin': [2, 4, 0, 6, 1, 7]},\n",
      " {'_id': ObjectId('60cf573c38e4510ec1c99f7a'),\n",
      "  'index': 6,\n",
      "  'lat': 61,\n",
      "  'lon': -61,\n",
      "  'voisin': [0, 1, 2, 3, 5, 7, 8]},\n",
      " {'_id': ObjectId('60cf573c38e4510ec1c99f7b'),\n",
      "  'index': 7,\n",
      "  'lat': -19,\n",
      "  'lon': -154,\n",
      "  'voisin': [1, 5, 0, 6, 8]},\n",
      " {'_id': ObjectId('60cf573c38e4510ec1c99f7c'),\n",
      "  'index': 8,\n",
      "  'lat': -62,\n",
      "  'lon': 57,\n",
      "  'voisin': [0, 1, 3, 7, 6]}]\n"
     ]
    }
   ],
   "source": [
    "pprint.pprint(list(vrp.find()[0:10]))"
   ]
  },
  {
   "cell_type": "code",
   "execution_count": null,
   "id": "b9c6205a",
   "metadata": {},
   "outputs": [],
   "source": []
  }
 ],
 "metadata": {
  "kernelspec": {
   "display_name": "Python 3",
   "language": "python",
   "name": "python3"
  },
  "language_info": {
   "codemirror_mode": {
    "name": "ipython",
    "version": 3
   },
   "file_extension": ".py",
   "mimetype": "text/x-python",
   "name": "python",
   "nbconvert_exporter": "python",
   "pygments_lexer": "ipython3",
   "version": "3.8.8"
  }
 },
 "nbformat": 4,
 "nbformat_minor": 5
}
